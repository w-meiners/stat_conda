{
 "cells": [
  {
   "cell_type": "code",
   "execution_count": 1,
   "metadata": {},
   "outputs": [],
   "source": [
    "import pandas as pd\n",
    "import numpy as np\n",
    "import itertools"
   ]
  },
  {
   "cell_type": "code",
   "execution_count": 2,
   "metadata": {},
   "outputs": [
    {
     "data": {
      "text/html": [
       "<div>\n",
       "<style scoped>\n",
       "    .dataframe tbody tr th:only-of-type {\n",
       "        vertical-align: middle;\n",
       "    }\n",
       "\n",
       "    .dataframe tbody tr th {\n",
       "        vertical-align: top;\n",
       "    }\n",
       "\n",
       "    .dataframe thead th {\n",
       "        text-align: right;\n",
       "    }\n",
       "</style>\n",
       "<table border=\"1\" class=\"dataframe\">\n",
       "  <thead>\n",
       "    <tr style=\"text-align: right;\">\n",
       "      <th></th>\n",
       "      <th>v</th>\n",
       "      <th>n</th>\n",
       "    </tr>\n",
       "  </thead>\n",
       "  <tbody>\n",
       "    <tr>\n",
       "      <th>0</th>\n",
       "      <td>1.0</td>\n",
       "      <td>10</td>\n",
       "    </tr>\n",
       "    <tr>\n",
       "      <th>1</th>\n",
       "      <td>1.3</td>\n",
       "      <td>12</td>\n",
       "    </tr>\n",
       "    <tr>\n",
       "      <th>2</th>\n",
       "      <td>1.5</td>\n",
       "      <td>8</td>\n",
       "    </tr>\n",
       "    <tr>\n",
       "      <th>3</th>\n",
       "      <td>1.8</td>\n",
       "      <td>5</td>\n",
       "    </tr>\n",
       "    <tr>\n",
       "      <th>4</th>\n",
       "      <td>2.1</td>\n",
       "      <td>13</td>\n",
       "    </tr>\n",
       "  </tbody>\n",
       "</table>\n",
       "</div>"
      ],
      "text/plain": [
       "     v   n\n",
       "0  1.0  10\n",
       "1  1.3  12\n",
       "2  1.5   8\n",
       "3  1.8   5\n",
       "4  2.1  13"
      ]
     },
     "execution_count": 2,
     "metadata": {},
     "output_type": "execute_result"
    }
   ],
   "source": [
    "df = pd.DataFrame(\n",
    "    [\n",
    "        (1.0, 10),\n",
    "        (1.3, 12),\n",
    "        (1.5,  8),\n",
    "        (1.8,  5),\n",
    "        (2.1, 13)\n",
    "    ],\n",
    "    columns=['v','n']\n",
    ")\n",
    "df"
   ]
  },
  {
   "cell_type": "markdown",
   "metadata": {},
   "source": [
    "Der Median ist durch die Stelle von $(v,n)$ charakterisiert, wo `h_cum` erstmals größer als 0.5 ist."
   ]
  },
  {
   "cell_type": "code",
   "execution_count": 3,
   "metadata": {},
   "outputs": [
    {
     "data": {
      "text/html": [
       "<div>\n",
       "<style scoped>\n",
       "    .dataframe tbody tr th:only-of-type {\n",
       "        vertical-align: middle;\n",
       "    }\n",
       "\n",
       "    .dataframe tbody tr th {\n",
       "        vertical-align: top;\n",
       "    }\n",
       "\n",
       "    .dataframe thead th {\n",
       "        text-align: right;\n",
       "    }\n",
       "</style>\n",
       "<table border=\"1\" class=\"dataframe\">\n",
       "  <thead>\n",
       "    <tr style=\"text-align: right;\">\n",
       "      <th></th>\n",
       "      <th>v</th>\n",
       "      <th>n</th>\n",
       "      <th>h</th>\n",
       "      <th>h_cum</th>\n",
       "    </tr>\n",
       "  </thead>\n",
       "  <tbody>\n",
       "    <tr>\n",
       "      <th>0</th>\n",
       "      <td>1.0</td>\n",
       "      <td>10</td>\n",
       "      <td>0.208333</td>\n",
       "      <td>0.208333</td>\n",
       "    </tr>\n",
       "    <tr>\n",
       "      <th>1</th>\n",
       "      <td>1.3</td>\n",
       "      <td>12</td>\n",
       "      <td>0.250000</td>\n",
       "      <td>0.458333</td>\n",
       "    </tr>\n",
       "    <tr>\n",
       "      <th>2</th>\n",
       "      <td>1.5</td>\n",
       "      <td>8</td>\n",
       "      <td>0.166667</td>\n",
       "      <td>0.625000</td>\n",
       "    </tr>\n",
       "    <tr>\n",
       "      <th>3</th>\n",
       "      <td>1.8</td>\n",
       "      <td>5</td>\n",
       "      <td>0.104167</td>\n",
       "      <td>0.729167</td>\n",
       "    </tr>\n",
       "    <tr>\n",
       "      <th>4</th>\n",
       "      <td>2.1</td>\n",
       "      <td>13</td>\n",
       "      <td>0.270833</td>\n",
       "      <td>1.000000</td>\n",
       "    </tr>\n",
       "  </tbody>\n",
       "</table>\n",
       "</div>"
      ],
      "text/plain": [
       "     v   n         h     h_cum\n",
       "0  1.0  10  0.208333  0.208333\n",
       "1  1.3  12  0.250000  0.458333\n",
       "2  1.5   8  0.166667  0.625000\n",
       "3  1.8   5  0.104167  0.729167\n",
       "4  2.1  13  0.270833  1.000000"
      ]
     },
     "execution_count": 3,
     "metadata": {},
     "output_type": "execute_result"
    }
   ],
   "source": [
    "df['h'] = df.n/df.n.sum()\n",
    "df['h_cum'] = df.h.cumsum()\n",
    "df"
   ]
  },
  {
   "cell_type": "code",
   "execution_count": 4,
   "metadata": {},
   "outputs": [],
   "source": [
    "import matplotlib.pyplot as plt, matplotlib.ticker as tk\n",
    "%matplotlib inline\n",
    "%config InlineBackend.figure_format='retina' # nur MacBook Pro"
   ]
  },
  {
   "cell_type": "code",
   "execution_count": 11,
   "metadata": {},
   "outputs": [
    {
     "data": {
      "image/png": "[encoded data removed]",
      "text/plain": [
       "<Figure size 432x288 with 1 Axes>"
      ]
     },
     "metadata": {
      "image/png": {
       "height": 272,
       "width": 372
      },
      "needs_background": "light"
     },
     "output_type": "display_data"
    }
   ],
   "source": [
    "ax = df.plot(kind='bar',x='v',y='h_cum')\n",
    "ax.axhline(0.5,c='k')\n",
    "ax.set(ylim=(0,1))\n",
    "ax.yaxis.set_major_locator(tk.MultipleLocator(0.1))"
   ]
  },
  {
   "cell_type": "markdown",
   "metadata": {},
   "source": [
    "Die Bedeutung des Medians lässt sich durch folgende Überlegung erklären:\n",
    "\n",
    "Wird die Größe `v` betrachtet und für die Werte, die von `v` repräsentiert werden, ein möglichst guter Schätzwert `x` gesucht, so wird dieser Schätzwert für in der Regel von einem `v_i` abweichen. Diese Abweichung\n",
    "\n",
    "$$\n",
    "  e_i = |x-v_i|\n",
    "$$\n",
    "\n",
    "kann durch den Betrag der Differenz zwischen `x` und `v_i` charakterisiert werden. Der Schätzwert `x_v` wird nun so festgelegt, dass die Summe der Fehlerbeträge \n",
    "\n",
    "$$\n",
    "  e_\\text{abs}(x) = \\sum_i |x-v_i|\n",
    "$$\n",
    "\n",
    "minimal wird. Diese Summe der Fehlerbeträge wird im folgenden untersucht."
   ]
  },
  {
   "cell_type": "code",
   "execution_count": 6,
   "metadata": {},
   "outputs": [],
   "source": [
    "from sympy import *\n",
    "init_printing()\n",
    "\n",
    "from fun_expr import Function_from_Expression as FE"
   ]
  },
  {
   "cell_type": "code",
   "execution_count": 8,
   "metadata": {},
   "outputs": [
    {
     "data": {
      "text/html": [
       "<div>\n",
       "<style scoped>\n",
       "    .dataframe tbody tr th:only-of-type {\n",
       "        vertical-align: middle;\n",
       "    }\n",
       "\n",
       "    .dataframe tbody tr th {\n",
       "        vertical-align: top;\n",
       "    }\n",
       "\n",
       "    .dataframe thead th {\n",
       "        text-align: right;\n",
       "    }\n",
       "</style>\n",
       "<table border=\"1\" class=\"dataframe\">\n",
       "  <thead>\n",
       "    <tr style=\"text-align: right;\">\n",
       "      <th></th>\n",
       "      <th>v</th>\n",
       "      <th>n</th>\n",
       "      <th>h</th>\n",
       "      <th>h_cum</th>\n",
       "      <th>fn</th>\n",
       "    </tr>\n",
       "  </thead>\n",
       "  <tbody>\n",
       "    <tr>\n",
       "      <th>0</th>\n",
       "      <td>1.0</td>\n",
       "      <td>10</td>\n",
       "      <td>0.208333</td>\n",
       "      <td>0.208333</td>\n",
       "      <td>5*Abs(x - 1.0)/24</td>\n",
       "    </tr>\n",
       "    <tr>\n",
       "      <th>1</th>\n",
       "      <td>1.3</td>\n",
       "      <td>12</td>\n",
       "      <td>0.250000</td>\n",
       "      <td>0.458333</td>\n",
       "      <td>Abs(x - 1.3)/4</td>\n",
       "    </tr>\n",
       "    <tr>\n",
       "      <th>2</th>\n",
       "      <td>1.5</td>\n",
       "      <td>8</td>\n",
       "      <td>0.166667</td>\n",
       "      <td>0.625000</td>\n",
       "      <td>Abs(x - 1.5)/6</td>\n",
       "    </tr>\n",
       "    <tr>\n",
       "      <th>3</th>\n",
       "      <td>1.8</td>\n",
       "      <td>5</td>\n",
       "      <td>0.104167</td>\n",
       "      <td>0.729167</td>\n",
       "      <td>5*Abs(x - 1.8)/48</td>\n",
       "    </tr>\n",
       "    <tr>\n",
       "      <th>4</th>\n",
       "      <td>2.1</td>\n",
       "      <td>13</td>\n",
       "      <td>0.270833</td>\n",
       "      <td>1.000000</td>\n",
       "      <td>13*Abs(x - 2.1)/48</td>\n",
       "    </tr>\n",
       "  </tbody>\n",
       "</table>\n",
       "</div>"
      ],
      "text/plain": [
       "     v   n         h     h_cum                  fn\n",
       "0  1.0  10  0.208333  0.208333   5*Abs(x - 1.0)/24\n",
       "1  1.3  12  0.250000  0.458333      Abs(x - 1.3)/4\n",
       "2  1.5   8  0.166667  0.625000      Abs(x - 1.5)/6\n",
       "3  1.8   5  0.104167  0.729167   5*Abs(x - 1.8)/48\n",
       "4  2.1  13  0.270833  1.000000  13*Abs(x - 2.1)/48"
      ]
     },
     "execution_count": 8,
     "metadata": {},
     "output_type": "execute_result"
    }
   ],
   "source": [
    "x = Symbol('x')\n",
    "\n",
    "df['fn'] = np.abs(df.v - x)*df.n/S(df.n.sum())\n",
    "df"
   ]
  },
  {
   "cell_type": "code",
   "execution_count": 13,
   "metadata": {},
   "outputs": [
    {
     "data": {
      "text/latex": [
       "$$e_{\\text{abs}}\\left(x\\right) = \\frac{13 \\left|{x - 2.1}\\right|}{48} + \\frac{5 \\left|{x - 1.8}\\right|}{48} + \\frac{\\left|{x - 1.5}\\right|}{6} + \\frac{\\left|{x - 1.3}\\right|}{4} + \\frac{5 \\left|{x - 1.0}\\right|}{24}$$"
      ],
      "text/plain": [
       "<IPython.core.display.Math object>"
      ]
     },
     "execution_count": 13,
     "metadata": {},
     "output_type": "execute_result"
    }
   ],
   "source": [
    "f = FE(x, df.fn.sum(),name=r'e_{\\text{abs}}')\n",
    "f.equation()"
   ]
  },
  {
   "cell_type": "markdown",
   "metadata": {},
   "source": [
    "Der Graph dieser Funktion hat das folgende Aussehen:"
   ]
  },
  {
   "cell_type": "code",
   "execution_count": 10,
   "metadata": {},
   "outputs": [
    {
     "data": {
      "image/png": "[encoded data removed]",
      "text/plain": [
       "<Figure size 432x288 with 1 Axes>"
      ]
     },
     "metadata": {
      "image/png": {
       "height": 163,
       "width": 378
      },
      "needs_background": "light"
     },
     "output_type": "display_data"
    }
   ],
   "source": [
    "fig,ax  = plt.subplots()\n",
    "\n",
    "lx = np.array([0] + list(df.v) + [3])\n",
    "\n",
    "ax.plot(lx,f.lambdified(lx),'-bo')\n",
    "ax.set_aspect(1.0)"
   ]
  },
  {
   "cell_type": "markdown",
   "metadata": {},
   "source": [
    "Er hat folgende Eigenschaften:\n",
    "- links vom kleinsten der Werte `v_i` besitzt er die Steigung -1\n",
    "- rechts vom größten der Werte `v_i` besitzt er die Steigung +1\n",
    "- die Steigung ist in jedem Intervall $(-\\infty,v_0)$, $(v_0,v_1)$, $\\ldots$, $(v_{n-2},v_{n-1})$, $(v_{n-1},\\infty)$\n",
    "  konstant und ändert sich in den Punkten $v_0, \\ldots, v_{n-1}$ sprunghaft, und zwar um den Betrag\n",
    "  $$\n",
    "    2\\cdot\\dfrac{n_i}{n_\\text{ges}}\n",
    "  $$\n",
    "- Das Minimum dieses Graphen liegt dort, wo die Steigung ihr Vorzeichen wechselt. Betrachtet man die Ungleichung\n",
    "  $$\n",
    "    2\\cdot\\dfrac{\\sum_i n_i}{n_\\text{ges}} -1 \\ge 0\n",
    "  $$\n",
    "  so folgt:\n",
    "  $$\n",
    "    \\sum_i n_i \\ge \\dfrac{1}{2}\\,n_\\text{ges}.\n",
    "  $$\n",
    "  Der Median von `v` ist deshalb durch das Minimum der Summe der Fehlerbeträge charakterisiert."
   ]
  }
 ],
 "metadata": {
  "kernelspec": {
   "display_name": "Python 3",
   "language": "python",
   "name": "python3"
  },
  "language_info": {
   "codemirror_mode": {
    "name": "ipython",
    "version": 3
   },
   "file_extension": ".py",
   "mimetype": "text/x-python",
   "name": "python",
   "nbconvert_exporter": "python",
   "pygments_lexer": "ipython3",
   "version": "3.7.2"
  }
 },
 "nbformat": 4,
 "nbformat_minor": 2
}
