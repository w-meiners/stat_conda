{
 "cells": [
  {
   "cell_type": "markdown",
   "metadata": {},
   "source": [
    "# Berechnung der Standardabweichung einer Verteilung"
   ]
  },
  {
   "cell_type": "markdown",
   "metadata": {},
   "source": [
    "Gegeben ist der Datensatz aufgenommener Messwerte $v_i (1\\le i \\le n)$ mit den zugehörigen Häufigkeiten $n_i (1 \\le i \\le n)$. Dieser wird in einem `pd.DataFrame` dargestellt. Für diesen Datensatz sollen der Mittelwert und die Standardabweichung berechnet werden.\n",
    "\n",
    "Die Berechnung soll möglichst mit den Methoden von `pandas` durchgeführt werden."
   ]
  },
  {
   "cell_type": "markdown",
   "metadata": {},
   "source": [
    "Zunächst werden die Module `pandas` geladen und `numpy` geladen. Später wird noch das Modul `itertools` benötigt, das jetzt auch schon geladen wird."
   ]
  },
  {
   "cell_type": "code",
   "execution_count": 1,
   "metadata": {},
   "outputs": [],
   "source": [
    "import pandas as pd\n",
    "import numpy as np\n",
    "import itertools"
   ]
  },
  {
   "cell_type": "markdown",
   "metadata": {},
   "source": [
    "Anlegen des `pd.DataFrame()`:"
   ]
  },
  {
   "cell_type": "code",
   "execution_count": 2,
   "metadata": {},
   "outputs": [
    {
     "data": {
      "text/html": [
       "<div>\n",
       "<style scoped>\n",
       "    .dataframe tbody tr th:only-of-type {\n",
       "        vertical-align: middle;\n",
       "    }\n",
       "\n",
       "    .dataframe tbody tr th {\n",
       "        vertical-align: top;\n",
       "    }\n",
       "\n",
       "    .dataframe thead th {\n",
       "        text-align: right;\n",
       "    }\n",
       "</style>\n",
       "<table border=\"1\" class=\"dataframe\">\n",
       "  <thead>\n",
       "    <tr style=\"text-align: right;\">\n",
       "      <th></th>\n",
       "      <th>v</th>\n",
       "      <th>n</th>\n",
       "    </tr>\n",
       "  </thead>\n",
       "  <tbody>\n",
       "    <tr>\n",
       "      <th>0</th>\n",
       "      <td>1.0</td>\n",
       "      <td>10</td>\n",
       "    </tr>\n",
       "    <tr>\n",
       "      <th>1</th>\n",
       "      <td>1.3</td>\n",
       "      <td>12</td>\n",
       "    </tr>\n",
       "    <tr>\n",
       "      <th>2</th>\n",
       "      <td>1.5</td>\n",
       "      <td>8</td>\n",
       "    </tr>\n",
       "    <tr>\n",
       "      <th>3</th>\n",
       "      <td>1.8</td>\n",
       "      <td>5</td>\n",
       "    </tr>\n",
       "    <tr>\n",
       "      <th>4</th>\n",
       "      <td>2.1</td>\n",
       "      <td>13</td>\n",
       "    </tr>\n",
       "  </tbody>\n",
       "</table>\n",
       "</div>"
      ],
      "text/plain": [
       "     v   n\n",
       "0  1.0  10\n",
       "1  1.3  12\n",
       "2  1.5   8\n",
       "3  1.8   5\n",
       "4  2.1  13"
      ]
     },
     "execution_count": 2,
     "metadata": {},
     "output_type": "execute_result"
    }
   ],
   "source": [
    "df = pd.DataFrame(\n",
    "    [\n",
    "        (1.0, 10),\n",
    "        (1.3, 12),\n",
    "        (1.5,  8),\n",
    "        (1.8,  5),\n",
    "        (2.1, 13)\n",
    "    ],\n",
    "    columns=['v','n']\n",
    ")\n",
    "df"
   ]
  },
  {
   "cell_type": "markdown",
   "metadata": {},
   "source": [
    "Um wieviele Beobachtungen handelt es insgesamt:"
   ]
  },
  {
   "cell_type": "code",
   "execution_count": 3,
   "metadata": {},
   "outputs": [
    {
     "data": {
      "text/plain": [
       "48"
      ]
     },
     "execution_count": 3,
     "metadata": {},
     "output_type": "execute_result"
    }
   ],
   "source": [
    "count = df.n.sum()\n",
    "count"
   ]
  },
  {
   "cell_type": "markdown",
   "metadata": {},
   "source": [
    "Berechnung der relativen Häufigkeiten über die absoluten Häufigkeiten:"
   ]
  },
  {
   "cell_type": "code",
   "execution_count": 4,
   "metadata": {},
   "outputs": [
    {
     "data": {
      "text/html": [
       "<div>\n",
       "<style scoped>\n",
       "    .dataframe tbody tr th:only-of-type {\n",
       "        vertical-align: middle;\n",
       "    }\n",
       "\n",
       "    .dataframe tbody tr th {\n",
       "        vertical-align: top;\n",
       "    }\n",
       "\n",
       "    .dataframe thead th {\n",
       "        text-align: right;\n",
       "    }\n",
       "</style>\n",
       "<table border=\"1\" class=\"dataframe\">\n",
       "  <thead>\n",
       "    <tr style=\"text-align: right;\">\n",
       "      <th></th>\n",
       "      <th>v</th>\n",
       "      <th>n</th>\n",
       "      <th>h</th>\n",
       "    </tr>\n",
       "  </thead>\n",
       "  <tbody>\n",
       "    <tr>\n",
       "      <th>0</th>\n",
       "      <td>1.0</td>\n",
       "      <td>10</td>\n",
       "      <td>0.208333</td>\n",
       "    </tr>\n",
       "    <tr>\n",
       "      <th>1</th>\n",
       "      <td>1.3</td>\n",
       "      <td>12</td>\n",
       "      <td>0.250000</td>\n",
       "    </tr>\n",
       "    <tr>\n",
       "      <th>2</th>\n",
       "      <td>1.5</td>\n",
       "      <td>8</td>\n",
       "      <td>0.166667</td>\n",
       "    </tr>\n",
       "    <tr>\n",
       "      <th>3</th>\n",
       "      <td>1.8</td>\n",
       "      <td>5</td>\n",
       "      <td>0.104167</td>\n",
       "    </tr>\n",
       "    <tr>\n",
       "      <th>4</th>\n",
       "      <td>2.1</td>\n",
       "      <td>13</td>\n",
       "      <td>0.270833</td>\n",
       "    </tr>\n",
       "  </tbody>\n",
       "</table>\n",
       "</div>"
      ],
      "text/plain": [
       "     v   n         h\n",
       "0  1.0  10  0.208333\n",
       "1  1.3  12  0.250000\n",
       "2  1.5   8  0.166667\n",
       "3  1.8   5  0.104167\n",
       "4  2.1  13  0.270833"
      ]
     },
     "execution_count": 4,
     "metadata": {},
     "output_type": "execute_result"
    }
   ],
   "source": [
    "df['h'] = df['n']/count\n",
    "df"
   ]
  },
  {
   "cell_type": "markdown",
   "metadata": {},
   "source": [
    "Der Mittelwert wird als\n",
    "\n",
    "$$\n",
    "  v_\\text{mean} = \n",
    "  \\dfrac{\\sum_i n_i\\,v_i}{\\sum_i n_i} = \\sum_i h_i\\,v_i\n",
    "$$\n",
    "\n",
    "berechnet:"
   ]
  },
  {
   "cell_type": "code",
   "execution_count": 5,
   "metadata": {},
   "outputs": [
    {
     "data": {
      "text/plain": [
       "1.5395833333333333"
      ]
     },
     "execution_count": 5,
     "metadata": {},
     "output_type": "execute_result"
    }
   ],
   "source": [
    "v_mean = (df.v*df.h).sum()\n",
    "v_mean"
   ]
  },
  {
   "cell_type": "markdown",
   "metadata": {},
   "source": [
    "Bei der Berechnung der Varianz wird zwischen der Varinz einer Verteilung und der Varianz einer Stichprobe untertschieden.\n",
    "\n",
    "Die Varianz einer Verteilung und einer Stichprobe sind durch die Formeln\n",
    "\n",
    "\\begin{align*}\n",
    "  V_\\text{Verteilung} &= \\dfrac{1}{n}\\, \\sum_n n_i\\,(v-v_\\text{mean})^2\\\\[2ex]\n",
    "  V_\\text{Stichprobe} &= \\dfrac{1}{n-1}\\, \\sum_n n_i\\,(v-v_\\text{mean})^2\n",
    "                       = \\dfrac{n}{n-1}\\, V\n",
    "\\end{align*}\n",
    "\n",
    "definiert. Im allgemeinen geht man bei Messungen von der Varianz der Stichprobe aus. Die Zahl der Freiheitsgrade verringert sich dort von $n$ auf $n-1$, da bei Messwerten der Erwartungswert nicht bekannt ist und durch den Mittelwert geschätzt wird.\n"
   ]
  },
  {
   "cell_type": "code",
   "execution_count": 7,
   "metadata": {},
   "outputs": [
    {
     "data": {
      "text/plain": [
       "0.17095301418439715"
      ]
     },
     "execution_count": 7,
     "metadata": {},
     "output_type": "execute_result"
    }
   ],
   "source": [
    "v_var = count/(count-1)*((df.v-v_mean)**2*df.h).sum()\n",
    "v_var"
   ]
  },
  {
   "cell_type": "markdown",
   "metadata": {},
   "source": [
    "Die Standardabweichung ist die Quadratwurzel aus der Varianz:"
   ]
  },
  {
   "cell_type": "code",
   "execution_count": 8,
   "metadata": {},
   "outputs": [
    {
     "data": {
      "text/plain": [
       "0.4134646468374257"
      ]
     },
     "execution_count": 8,
     "metadata": {},
     "output_type": "execute_result"
    }
   ],
   "source": [
    "v_std = v_var**0.5\n",
    "v_std"
   ]
  },
  {
   "cell_type": "markdown",
   "metadata": {},
   "source": [
    "Diese Größen können von `pandas` direkt ermittelt werden, wenn ein Objekt mit einfachen Meßdaten vorliegt. Dann wird nicht zu jedem `v` die zugehörige Häufigkeit `n` angegeben, sondern der Wert `v` tritt in dem DataFrame `n` Mal auf."
   ]
  },
  {
   "cell_type": "markdown",
   "metadata": {},
   "source": [
    "Erzeuge ein `pd.Series`-Objekt, dass jeder einzelnen Ziehung eine Zeile zuordnet:"
   ]
  },
  {
   "cell_type": "code",
   "execution_count": 32,
   "metadata": {},
   "outputs": [
    {
     "data": {
      "text/plain": [
       "0     1.0\n",
       "1     1.0\n",
       "2     1.0\n",
       "3     1.0\n",
       "4     1.0\n",
       "43    2.1\n",
       "44    2.1\n",
       "45    2.1\n",
       "46    2.1\n",
       "47    2.1\n",
       "dtype: float64"
      ]
     },
     "execution_count": 32,
     "metadata": {},
     "output_type": "execute_result"
    }
   ],
   "source": [
    "chained = pd.Series(\n",
    "    itertools.chain.from_iterable(\n",
    "        [(n*[v]) for n,v in zip(df.n,df.v)]\n",
    "    )\n",
    ")\n",
    "chained.head().append(chained.tail())"
   ]
  },
  {
   "cell_type": "code",
   "execution_count": 33,
   "metadata": {},
   "outputs": [
    {
     "data": {
      "text/plain": [
       "count    48.000000\n",
       "mean      1.539583\n",
       "std       0.413465\n",
       "min       1.000000\n",
       "25%       1.300000\n",
       "50%       1.500000\n",
       "75%       2.100000\n",
       "max       2.100000\n",
       "dtype: float64"
      ]
     },
     "execution_count": 33,
     "metadata": {},
     "output_type": "execute_result"
    }
   ],
   "source": [
    "chained.describe()"
   ]
  }
 ],
 "metadata": {
  "kernelspec": {
   "display_name": "Python 3",
   "language": "python",
   "name": "python3"
  },
  "language_info": {
   "codemirror_mode": {
    "name": "ipython",
    "version": 3
   },
   "file_extension": ".py",
   "mimetype": "text/x-python",
   "name": "python",
   "nbconvert_exporter": "python",
   "pygments_lexer": "ipython3",
   "version": "3.7.2"
  }
 },
 "nbformat": 4,
 "nbformat_minor": 2
}
